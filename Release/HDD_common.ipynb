{
 "cells": [
  {
   "cell_type": "code",
   "execution_count": 1,
   "metadata": {},
   "outputs": [],
   "source": [
    "import numpy as np\n",
    "import pandas as pd\n",
    "import matplotlib.pyplot as plt"
   ]
  },
  {
   "cell_type": "code",
   "execution_count": 2,
   "metadata": {},
   "outputs": [],
   "source": [
    "# make a group with serial no of drive and return the last count no of days\n",
    "\n",
    "def group_by_serial_number(df, count):\n",
    "\n",
    "    # Group the instances dataframe by serial number\n",
    "    grouped_instances = df.groupby('serial_number')\n",
    "\n",
    "    # Create an empty list to store the last 150 samples for each serial number\n",
    "    last_n = []\n",
    "\n",
    "    # Iterate over each group\n",
    "    for name, group in grouped_instances:\n",
    "        # Get the last n (count) samples for the current serial number\n",
    "        last_n_group = group.tail(count)\n",
    "        # Append the last n samples to the list\n",
    "        last_n.append(last_n_group)\n",
    "\n",
    "    # Concatenate the list of dataframes into a single dataframe\n",
    "    instance_last_n = pd.concat(last_n)\n",
    "\n",
    "    # Reset the index of the dataframe\n",
    "    instance_last_n.reset_index(drop=True, inplace=True)\n",
    "\n",
    "    # Drop the date column from the dataframe\n",
    "    # instance_last_n.drop(columns=['date'], inplace=True)\n",
    "\n",
    "    # reset index\n",
    "    instance_last_n.reset_index(drop=True, inplace=True)\n",
    "\n",
    "    # Print the updated dataframe\n",
    "    # instance_last_n.head()\n",
    "\n",
    "    return instance_last_n"
   ]
  },
  {
   "cell_type": "code",
   "execution_count": 3,
   "metadata": {},
   "outputs": [],
   "source": [
    "def get_model_data(df, model):\n",
    "    model_df = df[df['model'] == model]\n",
    "    if model_df.columns.contains('model'):\n",
    "        model_df.drop(columns=['model'], inplace=True)\n",
    "    if model_df.columns.contains('serial_number'):\n",
    "        model_df.drop(columns=['serial_number'], inplace=True)\n",
    "    return model_df"
   ]
  },
  {
   "cell_type": "code",
   "execution_count": 4,
   "metadata": {},
   "outputs": [],
   "source": [
    "def get_clean_model_data(df):\n",
    "    test = df.isnull().sum()\n",
    "    d_col = []\n",
    "    for k in test.keys():\n",
    "        if test[k] == df.shape[0]:\n",
    "            d_col.append(k)\n",
    "    df.drop(columns=d_col, inplace=True)\n",
    "    return df"
   ]
  },
  {
   "cell_type": "code",
   "execution_count": 5,
   "metadata": {},
   "outputs": [],
   "source": [
    "def get_clear_data(df):\n",
    "    # Drop the date column from the dataframe\n",
    "    if df.columns.contains('date'):\n",
    "        df.drop(columns=['date'], inplace=True)\n",
    "    if df.columns.contains('model'):\n",
    "        df.drop(columns=['model'], inplace=True)\n",
    "    if df.columns.contains('serial_number'):\n",
    "        df.drop(columns=['serial_number'], inplace=True)\n",
    "    df_filled = df.fillna(df.mean())\n",
    "    return df_filled"
   ]
  },
  {
   "cell_type": "code",
   "execution_count": null,
   "metadata": {},
   "outputs": [],
   "source": [
    "# Load the entire dataset into a pandas dataframe\n",
    "\n",
    "df = pd.read_parquet('/nobackup/amimalik/bits/dataset/dimensions/4Q/working_dataset.parquet')\n",
    "model_df = pd.read_csv('/nobackup/amimalik/bits/dataset/dimensions/4Q/sorted_failures.csv')\n",
    "\n",
    "model_df = model_df.head(5)"
   ]
  }
 ],
 "metadata": {
  "kernelspec": {
   "display_name": "Python 3 (ipykernel)",
   "language": "python",
   "name": "python3"
  }
 },
 "nbformat": 4,
 "nbformat_minor": 2
}
