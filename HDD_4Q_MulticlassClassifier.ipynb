{
 "cells": [
  {
   "cell_type": "code",
   "execution_count": 13,
   "metadata": {},
   "outputs": [],
   "source": [
    "# Load the python libraries for dataprocessing and model and visualization\n",
    "import pandas as pd\n",
    "import numpy as np\n",
    "import matplotlib.pyplot as plt\n",
    "import seaborn as sns\n",
    "\n",
    "from sklearn.ensemble import GradientBoostingClassifier\n",
    "from sklearn.model_selection import train_test_split\n",
    "from sklearn.model_selection import GridSearchCV\n",
    "from sklearn import preprocessing\n",
    "from sklearn.metrics import accuracy_score, recall_score, precision_score, f1_score, roc_auc_score\n",
    "from sklearn.metrics import confusion_matrix\n",
    "from sklearn.model_selection import StratifiedKFold\n",
    "\n",
    "import mglearn"
   ]
  },
  {
   "cell_type": "code",
   "execution_count": 14,
   "metadata": {},
   "outputs": [],
   "source": [
    "# Load the entire dataset into a pandas dataframe\n",
    "\n",
    "df = pd.read_parquet('/nobackup/amimalik/bits/dataset/dimensions/4Q/working_dataset.parquet')\n",
    "model_df = pd.read_csv('/nobackup/amimalik/bits/dataset/dimensions/4Q/sorted_failures.csv')"
   ]
  },
  {
   "cell_type": "code",
   "execution_count": 15,
   "metadata": {},
   "outputs": [],
   "source": [
    "def get_model_data(df, model):\n",
    "    model_df = df[df['model'] == model]\n",
    "    model_df = model_df.drop(columns=['model'])\n",
    "    return model_df.drop(columns=['serial_number'])"
   ]
  },
  {
   "cell_type": "code",
   "execution_count": 16,
   "metadata": {},
   "outputs": [
    {
     "data": {
      "text/html": [
       "<div>\n",
       "<style scoped>\n",
       "    .dataframe tbody tr th:only-of-type {\n",
       "        vertical-align: middle;\n",
       "    }\n",
       "\n",
       "    .dataframe tbody tr th {\n",
       "        vertical-align: top;\n",
       "    }\n",
       "\n",
       "    .dataframe thead th {\n",
       "        text-align: right;\n",
       "    }\n",
       "</style>\n",
       "<table border=\"1\" class=\"dataframe\">\n",
       "  <thead>\n",
       "    <tr style=\"text-align: right;\">\n",
       "      <th></th>\n",
       "      <th>failure</th>\n",
       "      <th>Reallocated_Sectors_Count</th>\n",
       "      <th>Power-On_Hours</th>\n",
       "      <th>I/O_Error_Detection_and_Correction</th>\n",
       "      <th>Reported_Uncorrectable_Errors</th>\n",
       "      <th>Load_Unload_Cycle</th>\n",
       "      <th>Current_Pending_Sector_Count</th>\n",
       "      <th>Offline_Uncorrectable</th>\n",
       "      <th>Head_Flying_Hours</th>\n",
       "      <th>Total_LBAs_Written</th>\n",
       "      <th>Total_LBAs_Read</th>\n",
       "    </tr>\n",
       "  </thead>\n",
       "  <tbody>\n",
       "    <tr>\n",
       "      <th>66599</th>\n",
       "      <td>0.0</td>\n",
       "      <td>0.0</td>\n",
       "      <td>0.388091</td>\n",
       "      <td>NaN</td>\n",
       "      <td>0.0</td>\n",
       "      <td>0.005801</td>\n",
       "      <td>0.0</td>\n",
       "      <td>0.0</td>\n",
       "      <td>0.386180</td>\n",
       "      <td>0.334548</td>\n",
       "      <td>0.104218</td>\n",
       "    </tr>\n",
       "    <tr>\n",
       "      <th>66866</th>\n",
       "      <td>0.0</td>\n",
       "      <td>0.0</td>\n",
       "      <td>0.388064</td>\n",
       "      <td>NaN</td>\n",
       "      <td>0.0</td>\n",
       "      <td>0.005690</td>\n",
       "      <td>0.0</td>\n",
       "      <td>0.0</td>\n",
       "      <td>0.386114</td>\n",
       "      <td>0.359183</td>\n",
       "      <td>0.091892</td>\n",
       "    </tr>\n",
       "    <tr>\n",
       "      <th>67071</th>\n",
       "      <td>0.0</td>\n",
       "      <td>0.0</td>\n",
       "      <td>0.388144</td>\n",
       "      <td>NaN</td>\n",
       "      <td>0.0</td>\n",
       "      <td>0.006111</td>\n",
       "      <td>0.0</td>\n",
       "      <td>0.0</td>\n",
       "      <td>0.385941</td>\n",
       "      <td>0.337273</td>\n",
       "      <td>0.099654</td>\n",
       "    </tr>\n",
       "    <tr>\n",
       "      <th>67109</th>\n",
       "      <td>0.0</td>\n",
       "      <td>0.0</td>\n",
       "      <td>0.388197</td>\n",
       "      <td>NaN</td>\n",
       "      <td>0.0</td>\n",
       "      <td>0.006115</td>\n",
       "      <td>0.0</td>\n",
       "      <td>0.0</td>\n",
       "      <td>0.386021</td>\n",
       "      <td>0.342008</td>\n",
       "      <td>0.102344</td>\n",
       "    </tr>\n",
       "    <tr>\n",
       "      <th>67169</th>\n",
       "      <td>0.0</td>\n",
       "      <td>0.0</td>\n",
       "      <td>0.388104</td>\n",
       "      <td>NaN</td>\n",
       "      <td>0.0</td>\n",
       "      <td>0.005744</td>\n",
       "      <td>0.0</td>\n",
       "      <td>0.0</td>\n",
       "      <td>0.386087</td>\n",
       "      <td>0.339530</td>\n",
       "      <td>0.126195</td>\n",
       "    </tr>\n",
       "  </tbody>\n",
       "</table>\n",
       "</div>"
      ],
      "text/plain": [
       "       failure  Reallocated_Sectors_Count  Power-On_Hours  \\\n",
       "66599      0.0                        0.0        0.388091   \n",
       "66866      0.0                        0.0        0.388064   \n",
       "67071      0.0                        0.0        0.388144   \n",
       "67109      0.0                        0.0        0.388197   \n",
       "67169      0.0                        0.0        0.388104   \n",
       "\n",
       "       I/O_Error_Detection_and_Correction  Reported_Uncorrectable_Errors  \\\n",
       "66599                                 NaN                            0.0   \n",
       "66866                                 NaN                            0.0   \n",
       "67071                                 NaN                            0.0   \n",
       "67109                                 NaN                            0.0   \n",
       "67169                                 NaN                            0.0   \n",
       "\n",
       "       Load_Unload_Cycle  Current_Pending_Sector_Count  Offline_Uncorrectable  \\\n",
       "66599           0.005801                           0.0                    0.0   \n",
       "66866           0.005690                           0.0                    0.0   \n",
       "67071           0.006111                           0.0                    0.0   \n",
       "67109           0.006115                           0.0                    0.0   \n",
       "67169           0.005744                           0.0                    0.0   \n",
       "\n",
       "       Head_Flying_Hours  Total_LBAs_Written  Total_LBAs_Read  \n",
       "66599           0.386180            0.334548         0.104218  \n",
       "66866           0.386114            0.359183         0.091892  \n",
       "67071           0.385941            0.337273         0.099654  \n",
       "67109           0.386021            0.342008         0.102344  \n",
       "67169           0.386087            0.339530         0.126195  "
      ]
     },
     "execution_count": 16,
     "metadata": {},
     "output_type": "execute_result"
    }
   ],
   "source": [
    "final_df = get_model_data(df, 'ST12000NM0008')\n",
    "final_df.head()"
   ]
  },
  {
   "cell_type": "code",
   "execution_count": 17,
   "metadata": {},
   "outputs": [
    {
     "data": {
      "text/html": [
       "<div>\n",
       "<style scoped>\n",
       "    .dataframe tbody tr th:only-of-type {\n",
       "        vertical-align: middle;\n",
       "    }\n",
       "\n",
       "    .dataframe tbody tr th {\n",
       "        vertical-align: top;\n",
       "    }\n",
       "\n",
       "    .dataframe thead th {\n",
       "        text-align: right;\n",
       "    }\n",
       "</style>\n",
       "<table border=\"1\" class=\"dataframe\">\n",
       "  <thead>\n",
       "    <tr style=\"text-align: right;\">\n",
       "      <th></th>\n",
       "      <th>failure</th>\n",
       "      <th>Reallocated_Sectors_Count</th>\n",
       "      <th>Power-On_Hours</th>\n",
       "      <th>Reported_Uncorrectable_Errors</th>\n",
       "      <th>Load_Unload_Cycle</th>\n",
       "      <th>Current_Pending_Sector_Count</th>\n",
       "      <th>Offline_Uncorrectable</th>\n",
       "      <th>Head_Flying_Hours</th>\n",
       "      <th>Total_LBAs_Written</th>\n",
       "      <th>Total_LBAs_Read</th>\n",
       "    </tr>\n",
       "  </thead>\n",
       "  <tbody>\n",
       "    <tr>\n",
       "      <th>count</th>\n",
       "      <td>53036.000000</td>\n",
       "      <td>53036.000000</td>\n",
       "      <td>53036.000000</td>\n",
       "      <td>53036.000000</td>\n",
       "      <td>53036.000000</td>\n",
       "      <td>53036.000000</td>\n",
       "      <td>53036.000000</td>\n",
       "      <td>53036.000000</td>\n",
       "      <td>53036.000000</td>\n",
       "      <td>53036.000000</td>\n",
       "    </tr>\n",
       "    <tr>\n",
       "      <th>mean</th>\n",
       "      <td>0.003281</td>\n",
       "      <td>0.013202</td>\n",
       "      <td>0.404955</td>\n",
       "      <td>0.006321</td>\n",
       "      <td>0.013812</td>\n",
       "      <td>0.000014</td>\n",
       "      <td>0.000014</td>\n",
       "      <td>0.398378</td>\n",
       "      <td>0.359483</td>\n",
       "      <td>0.079098</td>\n",
       "    </tr>\n",
       "    <tr>\n",
       "      <th>std</th>\n",
       "      <td>0.057185</td>\n",
       "      <td>0.049771</td>\n",
       "      <td>0.048593</td>\n",
       "      <td>0.078030</td>\n",
       "      <td>0.013295</td>\n",
       "      <td>0.000476</td>\n",
       "      <td>0.000476</td>\n",
       "      <td>0.046442</td>\n",
       "      <td>0.044611</td>\n",
       "      <td>0.023124</td>\n",
       "    </tr>\n",
       "    <tr>\n",
       "      <th>min</th>\n",
       "      <td>0.000000</td>\n",
       "      <td>0.000000</td>\n",
       "      <td>0.000053</td>\n",
       "      <td>0.000000</td>\n",
       "      <td>0.003958</td>\n",
       "      <td>0.000000</td>\n",
       "      <td>0.000000</td>\n",
       "      <td>0.241079</td>\n",
       "      <td>0.220027</td>\n",
       "      <td>0.034668</td>\n",
       "    </tr>\n",
       "    <tr>\n",
       "      <th>25%</th>\n",
       "      <td>0.000000</td>\n",
       "      <td>0.000000</td>\n",
       "      <td>0.376713</td>\n",
       "      <td>0.000000</td>\n",
       "      <td>0.006243</td>\n",
       "      <td>0.000000</td>\n",
       "      <td>0.000000</td>\n",
       "      <td>0.368398</td>\n",
       "      <td>0.345984</td>\n",
       "      <td>0.062145</td>\n",
       "    </tr>\n",
       "    <tr>\n",
       "      <th>50%</th>\n",
       "      <td>0.000000</td>\n",
       "      <td>0.000000</td>\n",
       "      <td>0.409069</td>\n",
       "      <td>0.000000</td>\n",
       "      <td>0.007690</td>\n",
       "      <td>0.000000</td>\n",
       "      <td>0.000000</td>\n",
       "      <td>0.401797</td>\n",
       "      <td>0.371004</td>\n",
       "      <td>0.074125</td>\n",
       "    </tr>\n",
       "    <tr>\n",
       "      <th>75%</th>\n",
       "      <td>0.000000</td>\n",
       "      <td>0.000366</td>\n",
       "      <td>0.439354</td>\n",
       "      <td>0.000031</td>\n",
       "      <td>0.011438</td>\n",
       "      <td>0.000000</td>\n",
       "      <td>0.000000</td>\n",
       "      <td>0.431157</td>\n",
       "      <td>0.390393</td>\n",
       "      <td>0.095408</td>\n",
       "    </tr>\n",
       "    <tr>\n",
       "      <th>max</th>\n",
       "      <td>1.000000</td>\n",
       "      <td>0.697839</td>\n",
       "      <td>0.516551</td>\n",
       "      <td>1.000000</td>\n",
       "      <td>0.045735</td>\n",
       "      <td>0.086470</td>\n",
       "      <td>0.086470</td>\n",
       "      <td>0.514624</td>\n",
       "      <td>0.457648</td>\n",
       "      <td>0.139238</td>\n",
       "    </tr>\n",
       "  </tbody>\n",
       "</table>\n",
       "</div>"
      ],
      "text/plain": [
       "            failure  Reallocated_Sectors_Count  Power-On_Hours  \\\n",
       "count  53036.000000               53036.000000    53036.000000   \n",
       "mean       0.003281                   0.013202        0.404955   \n",
       "std        0.057185                   0.049771        0.048593   \n",
       "min        0.000000                   0.000000        0.000053   \n",
       "25%        0.000000                   0.000000        0.376713   \n",
       "50%        0.000000                   0.000000        0.409069   \n",
       "75%        0.000000                   0.000366        0.439354   \n",
       "max        1.000000                   0.697839        0.516551   \n",
       "\n",
       "       Reported_Uncorrectable_Errors  Load_Unload_Cycle  \\\n",
       "count                   53036.000000       53036.000000   \n",
       "mean                        0.006321           0.013812   \n",
       "std                         0.078030           0.013295   \n",
       "min                         0.000000           0.003958   \n",
       "25%                         0.000000           0.006243   \n",
       "50%                         0.000000           0.007690   \n",
       "75%                         0.000031           0.011438   \n",
       "max                         1.000000           0.045735   \n",
       "\n",
       "       Current_Pending_Sector_Count  Offline_Uncorrectable  Head_Flying_Hours  \\\n",
       "count                  53036.000000           53036.000000       53036.000000   \n",
       "mean                       0.000014               0.000014           0.398378   \n",
       "std                        0.000476               0.000476           0.046442   \n",
       "min                        0.000000               0.000000           0.241079   \n",
       "25%                        0.000000               0.000000           0.368398   \n",
       "50%                        0.000000               0.000000           0.401797   \n",
       "75%                        0.000000               0.000000           0.431157   \n",
       "max                        0.086470               0.086470           0.514624   \n",
       "\n",
       "       Total_LBAs_Written  Total_LBAs_Read  \n",
       "count        53036.000000     53036.000000  \n",
       "mean             0.359483         0.079098  \n",
       "std              0.044611         0.023124  \n",
       "min              0.220027         0.034668  \n",
       "25%              0.345984         0.062145  \n",
       "50%              0.371004         0.074125  \n",
       "75%              0.390393         0.095408  \n",
       "max              0.457648         0.139238  "
      ]
     },
     "execution_count": 17,
     "metadata": {},
     "output_type": "execute_result"
    }
   ],
   "source": [
    "# Fill NaN values in df with mean of each column\n",
    "# df.fillna(df.mean(), inplace=True)\n",
    "\n",
    "# Fill NaN values in final_df with mean of each column\n",
    "final_df.fillna(final_df.mean(), inplace=True)\n",
    "final_df.dropna(axis=1, inplace=True)\n",
    "\n",
    "final_df.describe()"
   ]
  },
  {
   "cell_type": "code",
   "execution_count": 18,
   "metadata": {},
   "outputs": [
    {
     "data": {
      "text/html": [
       "<div>\n",
       "<style scoped>\n",
       "    .dataframe tbody tr th:only-of-type {\n",
       "        vertical-align: middle;\n",
       "    }\n",
       "\n",
       "    .dataframe tbody tr th {\n",
       "        vertical-align: top;\n",
       "    }\n",
       "\n",
       "    .dataframe thead th {\n",
       "        text-align: right;\n",
       "    }\n",
       "</style>\n",
       "<table border=\"1\" class=\"dataframe\">\n",
       "  <thead>\n",
       "    <tr style=\"text-align: right;\">\n",
       "      <th></th>\n",
       "      <th>failure</th>\n",
       "      <th>Reallocated_Sectors_Count</th>\n",
       "      <th>Power-On_Hours</th>\n",
       "      <th>Reported_Uncorrectable_Errors</th>\n",
       "      <th>Load_Unload_Cycle</th>\n",
       "      <th>Current_Pending_Sector_Count</th>\n",
       "      <th>Offline_Uncorrectable</th>\n",
       "      <th>Head_Flying_Hours</th>\n",
       "      <th>Total_LBAs_Written</th>\n",
       "      <th>Total_LBAs_Read</th>\n",
       "    </tr>\n",
       "  </thead>\n",
       "  <tbody>\n",
       "    <tr>\n",
       "      <th>66599</th>\n",
       "      <td>0.0</td>\n",
       "      <td>0.0</td>\n",
       "      <td>0.388091</td>\n",
       "      <td>0.0</td>\n",
       "      <td>0.005801</td>\n",
       "      <td>0.0</td>\n",
       "      <td>0.0</td>\n",
       "      <td>0.386180</td>\n",
       "      <td>0.334548</td>\n",
       "      <td>0.104218</td>\n",
       "    </tr>\n",
       "    <tr>\n",
       "      <th>66866</th>\n",
       "      <td>0.0</td>\n",
       "      <td>0.0</td>\n",
       "      <td>0.388064</td>\n",
       "      <td>0.0</td>\n",
       "      <td>0.005690</td>\n",
       "      <td>0.0</td>\n",
       "      <td>0.0</td>\n",
       "      <td>0.386114</td>\n",
       "      <td>0.359183</td>\n",
       "      <td>0.091892</td>\n",
       "    </tr>\n",
       "    <tr>\n",
       "      <th>67071</th>\n",
       "      <td>0.0</td>\n",
       "      <td>0.0</td>\n",
       "      <td>0.388144</td>\n",
       "      <td>0.0</td>\n",
       "      <td>0.006111</td>\n",
       "      <td>0.0</td>\n",
       "      <td>0.0</td>\n",
       "      <td>0.385941</td>\n",
       "      <td>0.337273</td>\n",
       "      <td>0.099654</td>\n",
       "    </tr>\n",
       "    <tr>\n",
       "      <th>67109</th>\n",
       "      <td>0.0</td>\n",
       "      <td>0.0</td>\n",
       "      <td>0.388197</td>\n",
       "      <td>0.0</td>\n",
       "      <td>0.006115</td>\n",
       "      <td>0.0</td>\n",
       "      <td>0.0</td>\n",
       "      <td>0.386021</td>\n",
       "      <td>0.342008</td>\n",
       "      <td>0.102344</td>\n",
       "    </tr>\n",
       "    <tr>\n",
       "      <th>67169</th>\n",
       "      <td>0.0</td>\n",
       "      <td>0.0</td>\n",
       "      <td>0.388104</td>\n",
       "      <td>0.0</td>\n",
       "      <td>0.005744</td>\n",
       "      <td>0.0</td>\n",
       "      <td>0.0</td>\n",
       "      <td>0.386087</td>\n",
       "      <td>0.339530</td>\n",
       "      <td>0.126195</td>\n",
       "    </tr>\n",
       "  </tbody>\n",
       "</table>\n",
       "</div>"
      ],
      "text/plain": [
       "       failure  Reallocated_Sectors_Count  Power-On_Hours  \\\n",
       "66599      0.0                        0.0        0.388091   \n",
       "66866      0.0                        0.0        0.388064   \n",
       "67071      0.0                        0.0        0.388144   \n",
       "67109      0.0                        0.0        0.388197   \n",
       "67169      0.0                        0.0        0.388104   \n",
       "\n",
       "       Reported_Uncorrectable_Errors  Load_Unload_Cycle  \\\n",
       "66599                            0.0           0.005801   \n",
       "66866                            0.0           0.005690   \n",
       "67071                            0.0           0.006111   \n",
       "67109                            0.0           0.006115   \n",
       "67169                            0.0           0.005744   \n",
       "\n",
       "       Current_Pending_Sector_Count  Offline_Uncorrectable  Head_Flying_Hours  \\\n",
       "66599                           0.0                    0.0           0.386180   \n",
       "66866                           0.0                    0.0           0.386114   \n",
       "67071                           0.0                    0.0           0.385941   \n",
       "67109                           0.0                    0.0           0.386021   \n",
       "67169                           0.0                    0.0           0.386087   \n",
       "\n",
       "       Total_LBAs_Written  Total_LBAs_Read  \n",
       "66599            0.334548         0.104218  \n",
       "66866            0.359183         0.091892  \n",
       "67071            0.337273         0.099654  \n",
       "67109            0.342008         0.102344  \n",
       "67169            0.339530         0.126195  "
      ]
     },
     "execution_count": 18,
     "metadata": {},
     "output_type": "execute_result"
    }
   ],
   "source": [
    "final_df.head()"
   ]
  },
  {
   "cell_type": "markdown",
   "metadata": {},
   "source": [
    "we will be using  Gradient Boosting method to train in each dataset. \n",
    "will be using GridSearch to find the optimum parameters for each dataset."
   ]
  },
  {
   "cell_type": "code",
   "execution_count": 21,
   "metadata": {},
   "outputs": [
    {
     "name": "stderr",
     "output_type": "stream",
     "text": [
      "/ws/amimalik-bgl/.pyenv/versions/3.11.4/lib/python3.11/site-packages/sklearn/metrics/_classification.py:1531: UndefinedMetricWarning: Precision is ill-defined and being set to 0.0 due to no predicted samples. Use `zero_division` parameter to control this behavior.\n",
      "  _warn_prf(average, modifier, f\"{metric.capitalize()} is\", len(result))\n"
     ]
    },
    {
     "name": "stdout",
     "output_type": "stream",
     "text": [
      "{'learning_rate': 0.01, 'max_depth': 5, 'n_estimators': 16}\n"
     ]
    },
    {
     "name": "stderr",
     "output_type": "stream",
     "text": [
      "/ws/amimalik-bgl/.pyenv/versions/3.11.4/lib/python3.11/site-packages/sklearn/metrics/_classification.py:1531: UndefinedMetricWarning: Precision is ill-defined and being set to 0.0 due to no predicted samples. Use `zero_division` parameter to control this behavior.\n",
      "  _warn_prf(average, modifier, f\"{metric.capitalize()} is\", len(result))\n"
     ]
    },
    {
     "name": "stdout",
     "output_type": "stream",
     "text": [
      "{'learning_rate': 0.01, 'max_depth': 5, 'n_estimators': 16}\n"
     ]
    },
    {
     "name": "stderr",
     "output_type": "stream",
     "text": [
      "/ws/amimalik-bgl/.pyenv/versions/3.11.4/lib/python3.11/site-packages/sklearn/metrics/_classification.py:1531: UndefinedMetricWarning: Precision is ill-defined and being set to 0.0 due to no predicted samples. Use `zero_division` parameter to control this behavior.\n",
      "  _warn_prf(average, modifier, f\"{metric.capitalize()} is\", len(result))\n"
     ]
    },
    {
     "name": "stdout",
     "output_type": "stream",
     "text": [
      "{'learning_rate': 0.01, 'max_depth': 5, 'n_estimators': 16}\n"
     ]
    },
    {
     "name": "stderr",
     "output_type": "stream",
     "text": [
      "/ws/amimalik-bgl/.pyenv/versions/3.11.4/lib/python3.11/site-packages/sklearn/metrics/_classification.py:1531: UndefinedMetricWarning: Precision is ill-defined and being set to 0.0 due to no predicted samples. Use `zero_division` parameter to control this behavior.\n",
      "  _warn_prf(average, modifier, f\"{metric.capitalize()} is\", len(result))\n"
     ]
    },
    {
     "name": "stdout",
     "output_type": "stream",
     "text": [
      "{'learning_rate': 0.01, 'max_depth': 5, 'n_estimators': 16}\n",
      "{'learning_rate': 0.01, 'max_depth': 5, 'n_estimators': 16}\n"
     ]
    },
    {
     "name": "stderr",
     "output_type": "stream",
     "text": [
      "/ws/amimalik-bgl/.pyenv/versions/3.11.4/lib/python3.11/site-packages/sklearn/metrics/_classification.py:1531: UndefinedMetricWarning: Precision is ill-defined and being set to 0.0 due to no predicted samples. Use `zero_division` parameter to control this behavior.\n",
      "  _warn_prf(average, modifier, f\"{metric.capitalize()} is\", len(result))\n"
     ]
    }
   ],
   "source": [
    "models = []\n",
    "accs = [] #accuracies\n",
    "recs = [] #recalls\n",
    "precs = [] #precisions\n",
    "f1s = [] #f1 scores\n",
    "rocs = [] #roc auc scores\n",
    "\n",
    "X = final_df.drop('failure', axis=1)\n",
    "y = final_df.failure\n",
    "    \n",
    "skf = StratifiedKFold(n_splits=5, shuffle=True, random_state=0)\n",
    "for train_index, test_index in skf.split(X, y):\n",
    "    X_train, X_test = X.iloc[train_index], X.iloc[test_index]\n",
    "    y_train, y_test = y.iloc[train_index], y.iloc[test_index]\n",
    "        \n",
    "    gbrt = GradientBoostingClassifier(max_features='sqrt', random_state=0)\n",
    "    learning_rates = [0.1, 0.05, 0.01]\n",
    "    n_estimators = [16, 32, 64]\n",
    "    max_depths = [5, 10, 15]\n",
    "    \n",
    "    params = {'learning_rate': learning_rates, 'n_estimators': n_estimators, 'max_depth': max_depths}\n",
    "    clf = GridSearchCV(gbrt, params)\n",
    "    clf.fit(X_train, y_train)\n",
    "    models.append(clf)\n",
    "    \n",
    "    final_pred = clf.predict(X_test)\n",
    "    accs.append(accuracy_score(y_test, final_pred))\n",
    "    recs.append(recall_score(y_test, final_pred))\n",
    "    precs.append(precision_score(y_test, final_pred))\n",
    "    f1s.append(f1_score(y_test, final_pred))\n",
    "    rocs.append(roc_auc_score(y_test, final_pred))\n",
    "    print(clf.best_params_)"
   ]
  },
  {
   "cell_type": "markdown",
   "metadata": {},
   "source": [
    "# Evaluation\n",
    "\n",
    "Accuracy, Recall, Precision, F1-Score, AUC-ROC values for the k dataset "
   ]
  },
  {
   "cell_type": "code",
   "execution_count": 22,
   "metadata": {},
   "outputs": [
    {
     "data": {
      "text/plain": [
       "Text(0.5, 1.0, 'Accuracy values of each model')"
      ]
     },
     "execution_count": 22,
     "metadata": {},
     "output_type": "execute_result"
    },
    {
     "data": {
      "image/png": "[encoded data removed]",
      "text/plain": [
       "<Figure size 1200x800 with 1 Axes>"
      ]
     },
     "metadata": {},
     "output_type": "display_data"
    }
   ],
   "source": [
    "x = ['k=1', 'k=3', 'k=5', 'k=7', 'k=9']\n",
    "\n",
    "plt.figure(figsize=(12,8))\n",
    "plt.bar(x, accs)\n",
    "plt.title('Accuracy values of each model')"
   ]
  },
  {
   "cell_type": "code",
   "execution_count": 23,
   "metadata": {},
   "outputs": [
    {
     "data": {
      "image/png": "[encoded data removed]",
      "text/plain": [
       "<Figure size 1200x800 with 1 Axes>"
      ]
     },
     "metadata": {},
     "output_type": "display_data"
    }
   ],
   "source": [
    "plt.figure(figsize=(12,8))\n",
    "plt.bar(x, recs)\n",
    "plt.title('Recall values of each model')\n",
    "plt.show()"
   ]
  },
  {
   "cell_type": "code",
   "execution_count": 24,
   "metadata": {},
   "outputs": [
    {
     "data": {
      "image/png": "[encoded data removed]",
      "text/plain": [
       "<Figure size 1200x800 with 1 Axes>"
      ]
     },
     "metadata": {},
     "output_type": "display_data"
    }
   ],
   "source": [
    "plt.figure(figsize=(12,8))\n",
    "plt.bar(x, precs)\n",
    "plt.title('Precision values of each model')\n",
    "plt.show()"
   ]
  },
  {
   "cell_type": "code",
   "execution_count": 25,
   "metadata": {},
   "outputs": [
    {
     "data": {
      "image/png": "[encoded data removed]",
      "text/plain": [
       "<Figure size 1200x800 with 1 Axes>"
      ]
     },
     "metadata": {},
     "output_type": "display_data"
    }
   ],
   "source": [
    "plt.figure(figsize=(12,8))\n",
    "plt.bar(x, f1s)\n",
    "plt.title('F1-Score values of each model')\n",
    "plt.show()"
   ]
  },
  {
   "cell_type": "code",
   "execution_count": 26,
   "metadata": {},
   "outputs": [
    {
     "data": {
      "image/png": "[encoded data removed]",
      "text/plain": [
       "<Figure size 1200x800 with 1 Axes>"
      ]
     },
     "metadata": {},
     "output_type": "display_data"
    }
   ],
   "source": [
    "plt.figure(figsize=(12,8))\n",
    "plt.bar(x, rocs)\n",
    "plt.title('AUC-ROC values of each model')\n",
    "plt.show()"
   ]
  }
 ],
 "metadata": {
  "kernelspec": {
   "display_name": "Python 3 (ipykernel)",
   "language": "python",
   "name": "python3"
  },
  "language_info": {
   "codemirror_mode": {
    "name": "ipython",
    "version": 3
   },
   "file_extension": ".py",
   "mimetype": "text/x-python",
   "name": "python",
   "nbconvert_exporter": "python",
   "pygments_lexer": "ipython3",
   "version": "3.11.4"
  }
 },
 "nbformat": 4,
 "nbformat_minor": 2
}
