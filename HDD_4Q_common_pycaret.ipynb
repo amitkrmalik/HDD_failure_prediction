{
 "cells": [
  {
   "cell_type": "code",
   "execution_count": 25,
   "metadata": {},
   "outputs": [
    {
     "name": "stderr",
     "output_type": "stream",
     "text": [
      "2024-08-25 10:47:11.777475: I external/local_xla/xla/tsl/cuda/cudart_stub.cc:32] Could not find cuda drivers on your machine, GPU will not be used.\n",
      "2024-08-25 10:47:12.131702: I external/local_xla/xla/tsl/cuda/cudart_stub.cc:32] Could not find cuda drivers on your machine, GPU will not be used.\n",
      "2024-08-25 10:47:12.481212: E external/local_xla/xla/stream_executor/cuda/cuda_fft.cc:485] Unable to register cuFFT factory: Attempting to register factory for plugin cuFFT when one has already been registered\n",
      "2024-08-25 10:47:12.765919: E external/local_xla/xla/stream_executor/cuda/cuda_dnn.cc:8454] Unable to register cuDNN factory: Attempting to register factory for plugin cuDNN when one has already been registered\n",
      "2024-08-25 10:47:12.849361: E external/local_xla/xla/stream_executor/cuda/cuda_blas.cc:1452] Unable to register cuBLAS factory: Attempting to register factory for plugin cuBLAS when one has already been registered\n",
      "2024-08-25 10:47:13.429977: I tensorflow/core/platform/cpu_feature_guard.cc:210] This TensorFlow binary is optimized to use available CPU instructions in performance-critical operations.\n",
      "To enable the following instructions: AVX2 AVX512F FMA, in other operations, rebuild TensorFlow with the appropriate compiler flags.\n",
      "2024-08-25 10:47:17.162746: W tensorflow/compiler/tf2tensorrt/utils/py_utils.cc:38] TF-TRT Warning: Could not find TensorRT\n"
     ]
    }
   ],
   "source": [
    "import pandas as pd\n",
    "import numpy as np\n",
    "import matplotlib.pyplot as plt\n",
    "import seaborn as sns\n",
    "\n",
    "from sklearn.ensemble import GradientBoostingClassifier\n",
    "from sklearn.model_selection import train_test_split\n",
    "from sklearn.model_selection import GridSearchCV\n",
    "from sklearn.preprocessing import StandardScaler\n",
    "\n",
    "\n",
    "from sklearn import preprocessing\n",
    "from sklearn.metrics import accuracy_score, recall_score, precision_score, f1_score, roc_auc_score\n",
    "from sklearn.metrics import confusion_matrix\n",
    "\n",
    "\n",
    "from sklearn.model_selection import StratifiedKFold\n",
    "\n",
    "\n",
    "import tensorflow as tf\n",
    "from tensorflow.keras.models import Sequential\n",
    "from tensorflow.keras.layers import Dense\n",
    "from tensorflow.keras.layers import LSTM\n",
    "from tensorflow.keras.optimizers import Adam\n",
    "\n",
    "from sklearn.preprocessing import MinMaxScaler"
   ]
  },
  {
   "cell_type": "code",
   "execution_count": 26,
   "metadata": {},
   "outputs": [],
   "source": [
    "# Load the entire dataset into a pandas dataframe\n",
    "\n",
    "df = pd.read_parquet('/nobackup/amimalik/bits/dataset/dimensions/4Q/working_dataset.parquet')\n",
    "model_df = pd.read_csv('/nobackup/amimalik/bits/dataset/dimensions/4Q/sorted_failures.csv')"
   ]
  },
  {
   "cell_type": "code",
   "execution_count": 30,
   "metadata": {},
   "outputs": [],
   "source": [
    "def get_model_data(df, model):\n",
    "    model_df = df[df['model'] == model]\n",
    "    model_df = model_df.drop(columns=['model'])\n",
    "    model_df.drop(columns=['serial_number'], inplace=True)\n",
    "    return model_df"
   ]
  },
  {
   "cell_type": "code",
   "execution_count": 31,
   "metadata": {},
   "outputs": [
    {
     "data": {
      "text/plain": [
       "Index(['Reallocated_Sectors_Count', 'Power-On_Hours',\n",
       "       'I/O_Error_Detection_and_Correction', 'Reported_Uncorrectable_Errors',\n",
       "       'Load_Unload_Cycle', 'Current_Pending_Sector_Count',\n",
       "       'Offline_Uncorrectable', 'Head_Flying_Hours', 'Total_LBAs_Written',\n",
       "       'Total_LBAs_Read', 'failure', 'model', 'serial_number'],\n",
       "      dtype='object')"
      ]
     },
     "execution_count": 31,
     "metadata": {},
     "output_type": "execute_result"
    }
   ],
   "source": [
    "df.columns"
   ]
  },
  {
   "cell_type": "code",
   "execution_count": 32,
   "metadata": {},
   "outputs": [],
   "source": [
    "# to be enabled later for all datasets and models\n",
    "for models in model_df['model']:\n",
    "    final_df = get_model_data(df, models)\n",
    "    final_df.fillna(final_df.mean(), inplace=True)\n",
    "    test = final_df.isnull().sum()\n",
    "    d_col = []\n",
    "    for k in test.keys():\n",
    "        if test[k] == final_df.shape[0]:\n",
    "            d_col.append(k)\n",
    "    final_df.drop(columns=d_col, inplace=True)"
   ]
  },
  {
   "cell_type": "code",
   "execution_count": 33,
   "metadata": {},
   "outputs": [],
   "source": [
    "final_df = get_model_data(df, 'ST12000NM0008')"
   ]
  },
  {
   "cell_type": "code",
   "execution_count": 34,
   "metadata": {},
   "outputs": [
    {
     "data": {
      "text/plain": [
       "(68823, 11)"
      ]
     },
     "execution_count": 34,
     "metadata": {},
     "output_type": "execute_result"
    }
   ],
   "source": [
    "final_df.shape"
   ]
  },
  {
   "cell_type": "code",
   "execution_count": 35,
   "metadata": {},
   "outputs": [
    {
     "data": {
      "text/html": [
       "<style type=\"text/css\">\n",
       "#T_ffd05_row9_col1, #T_ffd05_row13_col1, #T_ffd05_row15_col1, #T_ffd05_row17_col1 {\n",
       "  background-color: lightgreen;\n",
       "}\n",
       "</style>\n",
       "<table id=\"T_ffd05\">\n",
       "  <thead>\n",
       "    <tr>\n",
       "      <th class=\"blank level0\" >&nbsp;</th>\n",
       "      <th id=\"T_ffd05_level0_col0\" class=\"col_heading level0 col0\" >Description</th>\n",
       "      <th id=\"T_ffd05_level0_col1\" class=\"col_heading level0 col1\" >Value</th>\n",
       "    </tr>\n",
       "  </thead>\n",
       "  <tbody>\n",
       "    <tr>\n",
       "      <th id=\"T_ffd05_level0_row0\" class=\"row_heading level0 row0\" >0</th>\n",
       "      <td id=\"T_ffd05_row0_col0\" class=\"data row0 col0\" >Session id</td>\n",
       "      <td id=\"T_ffd05_row0_col1\" class=\"data row0 col1\" >123</td>\n",
       "    </tr>\n",
       "    <tr>\n",
       "      <th id=\"T_ffd05_level0_row1\" class=\"row_heading level0 row1\" >1</th>\n",
       "      <td id=\"T_ffd05_row1_col0\" class=\"data row1 col0\" >Target</td>\n",
       "      <td id=\"T_ffd05_row1_col1\" class=\"data row1 col1\" >failure</td>\n",
       "    </tr>\n",
       "    <tr>\n",
       "      <th id=\"T_ffd05_level0_row2\" class=\"row_heading level0 row2\" >2</th>\n",
       "      <td id=\"T_ffd05_row2_col0\" class=\"data row2 col0\" >Target type</td>\n",
       "      <td id=\"T_ffd05_row2_col1\" class=\"data row2 col1\" >Binary</td>\n",
       "    </tr>\n",
       "    <tr>\n",
       "      <th id=\"T_ffd05_level0_row3\" class=\"row_heading level0 row3\" >3</th>\n",
       "      <td id=\"T_ffd05_row3_col0\" class=\"data row3 col0\" >Original data shape</td>\n",
       "      <td id=\"T_ffd05_row3_col1\" class=\"data row3 col1\" >(68823, 11)</td>\n",
       "    </tr>\n",
       "    <tr>\n",
       "      <th id=\"T_ffd05_level0_row4\" class=\"row_heading level0 row4\" >4</th>\n",
       "      <td id=\"T_ffd05_row4_col0\" class=\"data row4 col0\" >Transformed data shape</td>\n",
       "      <td id=\"T_ffd05_row4_col1\" class=\"data row4 col1\" >(111565, 10)</td>\n",
       "    </tr>\n",
       "    <tr>\n",
       "      <th id=\"T_ffd05_level0_row5\" class=\"row_heading level0 row5\" >5</th>\n",
       "      <td id=\"T_ffd05_row5_col0\" class=\"data row5 col0\" >Transformed train set shape</td>\n",
       "      <td id=\"T_ffd05_row5_col1\" class=\"data row5 col1\" >(90918, 10)</td>\n",
       "    </tr>\n",
       "    <tr>\n",
       "      <th id=\"T_ffd05_level0_row6\" class=\"row_heading level0 row6\" >6</th>\n",
       "      <td id=\"T_ffd05_row6_col0\" class=\"data row6 col0\" >Transformed test set shape</td>\n",
       "      <td id=\"T_ffd05_row6_col1\" class=\"data row6 col1\" >(20647, 10)</td>\n",
       "    </tr>\n",
       "    <tr>\n",
       "      <th id=\"T_ffd05_level0_row7\" class=\"row_heading level0 row7\" >7</th>\n",
       "      <td id=\"T_ffd05_row7_col0\" class=\"data row7 col0\" >Numeric features</td>\n",
       "      <td id=\"T_ffd05_row7_col1\" class=\"data row7 col1\" >10</td>\n",
       "    </tr>\n",
       "    <tr>\n",
       "      <th id=\"T_ffd05_level0_row8\" class=\"row_heading level0 row8\" >8</th>\n",
       "      <td id=\"T_ffd05_row8_col0\" class=\"data row8 col0\" >Rows with missing values</td>\n",
       "      <td id=\"T_ffd05_row8_col1\" class=\"data row8 col1\" >100.0%</td>\n",
       "    </tr>\n",
       "    <tr>\n",
       "      <th id=\"T_ffd05_level0_row9\" class=\"row_heading level0 row9\" >9</th>\n",
       "      <td id=\"T_ffd05_row9_col0\" class=\"data row9 col0\" >Preprocess</td>\n",
       "      <td id=\"T_ffd05_row9_col1\" class=\"data row9 col1\" >True</td>\n",
       "    </tr>\n",
       "    <tr>\n",
       "      <th id=\"T_ffd05_level0_row10\" class=\"row_heading level0 row10\" >10</th>\n",
       "      <td id=\"T_ffd05_row10_col0\" class=\"data row10 col0\" >Imputation type</td>\n",
       "      <td id=\"T_ffd05_row10_col1\" class=\"data row10 col1\" >simple</td>\n",
       "    </tr>\n",
       "    <tr>\n",
       "      <th id=\"T_ffd05_level0_row11\" class=\"row_heading level0 row11\" >11</th>\n",
       "      <td id=\"T_ffd05_row11_col0\" class=\"data row11 col0\" >Numeric imputation</td>\n",
       "      <td id=\"T_ffd05_row11_col1\" class=\"data row11 col1\" >mean</td>\n",
       "    </tr>\n",
       "    <tr>\n",
       "      <th id=\"T_ffd05_level0_row12\" class=\"row_heading level0 row12\" >12</th>\n",
       "      <td id=\"T_ffd05_row12_col0\" class=\"data row12 col0\" >Categorical imputation</td>\n",
       "      <td id=\"T_ffd05_row12_col1\" class=\"data row12 col1\" >mode</td>\n",
       "    </tr>\n",
       "    <tr>\n",
       "      <th id=\"T_ffd05_level0_row13\" class=\"row_heading level0 row13\" >13</th>\n",
       "      <td id=\"T_ffd05_row13_col0\" class=\"data row13 col0\" >Remove outliers</td>\n",
       "      <td id=\"T_ffd05_row13_col1\" class=\"data row13 col1\" >True</td>\n",
       "    </tr>\n",
       "    <tr>\n",
       "      <th id=\"T_ffd05_level0_row14\" class=\"row_heading level0 row14\" >14</th>\n",
       "      <td id=\"T_ffd05_row14_col0\" class=\"data row14 col0\" >Outliers threshold</td>\n",
       "      <td id=\"T_ffd05_row14_col1\" class=\"data row14 col1\" >0.050000</td>\n",
       "    </tr>\n",
       "    <tr>\n",
       "      <th id=\"T_ffd05_level0_row15\" class=\"row_heading level0 row15\" >15</th>\n",
       "      <td id=\"T_ffd05_row15_col0\" class=\"data row15 col0\" >Fix imbalance</td>\n",
       "      <td id=\"T_ffd05_row15_col1\" class=\"data row15 col1\" >True</td>\n",
       "    </tr>\n",
       "    <tr>\n",
       "      <th id=\"T_ffd05_level0_row16\" class=\"row_heading level0 row16\" >16</th>\n",
       "      <td id=\"T_ffd05_row16_col0\" class=\"data row16 col0\" >Fix imbalance method</td>\n",
       "      <td id=\"T_ffd05_row16_col1\" class=\"data row16 col1\" >SMOTE</td>\n",
       "    </tr>\n",
       "    <tr>\n",
       "      <th id=\"T_ffd05_level0_row17\" class=\"row_heading level0 row17\" >17</th>\n",
       "      <td id=\"T_ffd05_row17_col0\" class=\"data row17 col0\" >Normalize</td>\n",
       "      <td id=\"T_ffd05_row17_col1\" class=\"data row17 col1\" >True</td>\n",
       "    </tr>\n",
       "    <tr>\n",
       "      <th id=\"T_ffd05_level0_row18\" class=\"row_heading level0 row18\" >18</th>\n",
       "      <td id=\"T_ffd05_row18_col0\" class=\"data row18 col0\" >Normalize method</td>\n",
       "      <td id=\"T_ffd05_row18_col1\" class=\"data row18 col1\" >minmax</td>\n",
       "    </tr>\n",
       "    <tr>\n",
       "      <th id=\"T_ffd05_level0_row19\" class=\"row_heading level0 row19\" >19</th>\n",
       "      <td id=\"T_ffd05_row19_col0\" class=\"data row19 col0\" >Fold Generator</td>\n",
       "      <td id=\"T_ffd05_row19_col1\" class=\"data row19 col1\" >StratifiedKFold</td>\n",
       "    </tr>\n",
       "    <tr>\n",
       "      <th id=\"T_ffd05_level0_row20\" class=\"row_heading level0 row20\" >20</th>\n",
       "      <td id=\"T_ffd05_row20_col0\" class=\"data row20 col0\" >Fold Number</td>\n",
       "      <td id=\"T_ffd05_row20_col1\" class=\"data row20 col1\" >10</td>\n",
       "    </tr>\n",
       "    <tr>\n",
       "      <th id=\"T_ffd05_level0_row21\" class=\"row_heading level0 row21\" >21</th>\n",
       "      <td id=\"T_ffd05_row21_col0\" class=\"data row21 col0\" >CPU Jobs</td>\n",
       "      <td id=\"T_ffd05_row21_col1\" class=\"data row21 col1\" >-1</td>\n",
       "    </tr>\n",
       "    <tr>\n",
       "      <th id=\"T_ffd05_level0_row22\" class=\"row_heading level0 row22\" >22</th>\n",
       "      <td id=\"T_ffd05_row22_col0\" class=\"data row22 col0\" >Use GPU</td>\n",
       "      <td id=\"T_ffd05_row22_col1\" class=\"data row22 col1\" >False</td>\n",
       "    </tr>\n",
       "    <tr>\n",
       "      <th id=\"T_ffd05_level0_row23\" class=\"row_heading level0 row23\" >23</th>\n",
       "      <td id=\"T_ffd05_row23_col0\" class=\"data row23 col0\" >Log Experiment</td>\n",
       "      <td id=\"T_ffd05_row23_col1\" class=\"data row23 col1\" >False</td>\n",
       "    </tr>\n",
       "    <tr>\n",
       "      <th id=\"T_ffd05_level0_row24\" class=\"row_heading level0 row24\" >24</th>\n",
       "      <td id=\"T_ffd05_row24_col0\" class=\"data row24 col0\" >Experiment Name</td>\n",
       "      <td id=\"T_ffd05_row24_col1\" class=\"data row24 col1\" >clf-default-name</td>\n",
       "    </tr>\n",
       "    <tr>\n",
       "      <th id=\"T_ffd05_level0_row25\" class=\"row_heading level0 row25\" >25</th>\n",
       "      <td id=\"T_ffd05_row25_col0\" class=\"data row25 col0\" >USI</td>\n",
       "      <td id=\"T_ffd05_row25_col1\" class=\"data row25 col1\" >8fc0</td>\n",
       "    </tr>\n",
       "  </tbody>\n",
       "</table>\n"
      ],
      "text/plain": [
       "<pandas.io.formats.style.Styler at 0x7f499ca8bb10>"
      ]
     },
     "metadata": {},
     "output_type": "display_data"
    }
   ],
   "source": [
    "# import pycaret classification and init setup\n",
    "from pycaret.classification import *\n",
    "s = setup(final_df, target = 'failure', session_id = 123, index=False, fix_imbalance = True, remove_outliers = True, normalize = True, normalize_method = 'minmax')"
   ]
  },
  {
   "cell_type": "code",
   "execution_count": 36,
   "metadata": {},
   "outputs": [
    {
     "data": {
      "text/html": [],
      "text/plain": [
       "<IPython.core.display.HTML object>"
      ]
     },
     "metadata": {},
     "output_type": "display_data"
    },
    {
     "data": {
      "text/html": [
       "<style type=\"text/css\">\n",
       "#T_40a08 th {\n",
       "  text-align: left;\n",
       "}\n",
       "#T_40a08_row0_col0, #T_40a08_row0_col2, #T_40a08_row0_col3, #T_40a08_row0_col4, #T_40a08_row0_col5, #T_40a08_row0_col6, #T_40a08_row0_col7, #T_40a08_row1_col0, #T_40a08_row1_col1, #T_40a08_row1_col2, #T_40a08_row1_col3, #T_40a08_row1_col5, #T_40a08_row1_col6, #T_40a08_row1_col7, #T_40a08_row2_col0, #T_40a08_row2_col1, #T_40a08_row2_col3, #T_40a08_row2_col4, #T_40a08_row2_col5, #T_40a08_row2_col6, #T_40a08_row2_col7, #T_40a08_row3_col0, #T_40a08_row3_col1, #T_40a08_row3_col2, #T_40a08_row3_col3, #T_40a08_row3_col4, #T_40a08_row3_col5, #T_40a08_row3_col6, #T_40a08_row3_col7, #T_40a08_row4_col0, #T_40a08_row4_col1, #T_40a08_row4_col2, #T_40a08_row4_col3, #T_40a08_row4_col4, #T_40a08_row4_col5, #T_40a08_row4_col6, #T_40a08_row4_col7, #T_40a08_row5_col0, #T_40a08_row5_col1, #T_40a08_row5_col2, #T_40a08_row5_col3, #T_40a08_row5_col4, #T_40a08_row5_col7, #T_40a08_row6_col0, #T_40a08_row6_col1, #T_40a08_row6_col2, #T_40a08_row6_col3, #T_40a08_row6_col4, #T_40a08_row6_col5, #T_40a08_row6_col6, #T_40a08_row6_col7, #T_40a08_row7_col0, #T_40a08_row7_col1, #T_40a08_row7_col2, #T_40a08_row7_col3, #T_40a08_row7_col4, #T_40a08_row7_col5, #T_40a08_row7_col6, #T_40a08_row8_col0, #T_40a08_row8_col1, #T_40a08_row8_col2, #T_40a08_row8_col3, #T_40a08_row8_col4, #T_40a08_row8_col5, #T_40a08_row8_col6, #T_40a08_row8_col7, #T_40a08_row9_col0, #T_40a08_row9_col1, #T_40a08_row9_col2, #T_40a08_row9_col3, #T_40a08_row9_col4, #T_40a08_row9_col5, #T_40a08_row9_col6, #T_40a08_row9_col7, #T_40a08_row10_col0, #T_40a08_row10_col1, #T_40a08_row10_col2, #T_40a08_row10_col3, #T_40a08_row10_col4, #T_40a08_row10_col5, #T_40a08_row10_col6, #T_40a08_row10_col7, #T_40a08_row11_col0, #T_40a08_row11_col1, #T_40a08_row11_col2, #T_40a08_row11_col3, #T_40a08_row11_col4, #T_40a08_row11_col5, #T_40a08_row11_col6, #T_40a08_row11_col7, #T_40a08_row12_col0, #T_40a08_row12_col1, #T_40a08_row12_col2, #T_40a08_row12_col3, #T_40a08_row12_col4, #T_40a08_row12_col5, #T_40a08_row12_col6, #T_40a08_row12_col7, #T_40a08_row13_col0, #T_40a08_row13_col1, #T_40a08_row13_col2, #T_40a08_row13_col4, #T_40a08_row13_col5, #T_40a08_row13_col6, #T_40a08_row13_col7 {\n",
       "  text-align: left;\n",
       "}\n",
       "#T_40a08_row0_col1, #T_40a08_row1_col4, #T_40a08_row2_col2, #T_40a08_row5_col5, #T_40a08_row5_col6, #T_40a08_row7_col7, #T_40a08_row13_col3 {\n",
       "  text-align: left;\n",
       "  background-color: yellow;\n",
       "}\n",
       "#T_40a08_row0_col8, #T_40a08_row1_col8, #T_40a08_row2_col8, #T_40a08_row3_col8, #T_40a08_row4_col8, #T_40a08_row5_col8, #T_40a08_row7_col8, #T_40a08_row8_col8, #T_40a08_row9_col8, #T_40a08_row10_col8, #T_40a08_row11_col8, #T_40a08_row12_col8, #T_40a08_row13_col8 {\n",
       "  text-align: left;\n",
       "  background-color: lightgrey;\n",
       "}\n",
       "#T_40a08_row6_col8 {\n",
       "  text-align: left;\n",
       "  background-color: yellow;\n",
       "  background-color: lightgrey;\n",
       "}\n",
       "</style>\n",
       "<table id=\"T_40a08\">\n",
       "  <thead>\n",
       "    <tr>\n",
       "      <th class=\"blank level0\" >&nbsp;</th>\n",
       "      <th id=\"T_40a08_level0_col0\" class=\"col_heading level0 col0\" >Model</th>\n",
       "      <th id=\"T_40a08_level0_col1\" class=\"col_heading level0 col1\" >Accuracy</th>\n",
       "      <th id=\"T_40a08_level0_col2\" class=\"col_heading level0 col2\" >AUC</th>\n",
       "      <th id=\"T_40a08_level0_col3\" class=\"col_heading level0 col3\" >Recall</th>\n",
       "      <th id=\"T_40a08_level0_col4\" class=\"col_heading level0 col4\" >Prec.</th>\n",
       "      <th id=\"T_40a08_level0_col5\" class=\"col_heading level0 col5\" >F1</th>\n",
       "      <th id=\"T_40a08_level0_col6\" class=\"col_heading level0 col6\" >Kappa</th>\n",
       "      <th id=\"T_40a08_level0_col7\" class=\"col_heading level0 col7\" >MCC</th>\n",
       "      <th id=\"T_40a08_level0_col8\" class=\"col_heading level0 col8\" >TT (Sec)</th>\n",
       "    </tr>\n",
       "  </thead>\n",
       "  <tbody>\n",
       "    <tr>\n",
       "      <th id=\"T_40a08_level0_row0\" class=\"row_heading level0 row0\" >dummy</th>\n",
       "      <td id=\"T_40a08_row0_col0\" class=\"data row0 col0\" >Dummy Classifier</td>\n",
       "      <td id=\"T_40a08_row0_col1\" class=\"data row0 col1\" >0.9913</td>\n",
       "      <td id=\"T_40a08_row0_col2\" class=\"data row0 col2\" >0.5000</td>\n",
       "      <td id=\"T_40a08_row0_col3\" class=\"data row0 col3\" >0.0000</td>\n",
       "      <td id=\"T_40a08_row0_col4\" class=\"data row0 col4\" >0.0000</td>\n",
       "      <td id=\"T_40a08_row0_col5\" class=\"data row0 col5\" >0.0000</td>\n",
       "      <td id=\"T_40a08_row0_col6\" class=\"data row0 col6\" >0.0000</td>\n",
       "      <td id=\"T_40a08_row0_col7\" class=\"data row0 col7\" >0.0000</td>\n",
       "      <td id=\"T_40a08_row0_col8\" class=\"data row0 col8\" >0.1900</td>\n",
       "    </tr>\n",
       "    <tr>\n",
       "      <th id=\"T_40a08_level0_row1\" class=\"row_heading level0 row1\" >rf</th>\n",
       "      <td id=\"T_40a08_row1_col0\" class=\"data row1 col0\" >Random Forest Classifier</td>\n",
       "      <td id=\"T_40a08_row1_col1\" class=\"data row1 col1\" >0.9807</td>\n",
       "      <td id=\"T_40a08_row1_col2\" class=\"data row1 col2\" >0.8296</td>\n",
       "      <td id=\"T_40a08_row1_col3\" class=\"data row1 col3\" >0.0694</td>\n",
       "      <td id=\"T_40a08_row1_col4\" class=\"data row1 col4\" >0.0508</td>\n",
       "      <td id=\"T_40a08_row1_col5\" class=\"data row1 col5\" >0.0581</td>\n",
       "      <td id=\"T_40a08_row1_col6\" class=\"data row1 col6\" >0.0487</td>\n",
       "      <td id=\"T_40a08_row1_col7\" class=\"data row1 col7\" >0.0495</td>\n",
       "      <td id=\"T_40a08_row1_col8\" class=\"data row1 col8\" >1.4270</td>\n",
       "    </tr>\n",
       "    <tr>\n",
       "      <th id=\"T_40a08_level0_row2\" class=\"row_heading level0 row2\" >et</th>\n",
       "      <td id=\"T_40a08_row2_col0\" class=\"data row2 col0\" >Extra Trees Classifier</td>\n",
       "      <td id=\"T_40a08_row2_col1\" class=\"data row2 col1\" >0.9787</td>\n",
       "      <td id=\"T_40a08_row2_col2\" class=\"data row2 col2\" >0.8302</td>\n",
       "      <td id=\"T_40a08_row2_col3\" class=\"data row2 col3\" >0.0789</td>\n",
       "      <td id=\"T_40a08_row2_col4\" class=\"data row2 col4\" >0.0504</td>\n",
       "      <td id=\"T_40a08_row2_col5\" class=\"data row2 col5\" >0.0605</td>\n",
       "      <td id=\"T_40a08_row2_col6\" class=\"data row2 col6\" >0.0505</td>\n",
       "      <td id=\"T_40a08_row2_col7\" class=\"data row2 col7\" >0.0522</td>\n",
       "      <td id=\"T_40a08_row2_col8\" class=\"data row2 col8\" >0.5050</td>\n",
       "    </tr>\n",
       "    <tr>\n",
       "      <th id=\"T_40a08_level0_row3\" class=\"row_heading level0 row3\" >dt</th>\n",
       "      <td id=\"T_40a08_row3_col0\" class=\"data row3 col0\" >Decision Tree Classifier</td>\n",
       "      <td id=\"T_40a08_row3_col1\" class=\"data row3 col1\" >0.9729</td>\n",
       "      <td id=\"T_40a08_row3_col2\" class=\"data row3 col2\" >0.5483</td>\n",
       "      <td id=\"T_40a08_row3_col3\" class=\"data row3 col3\" >0.1100</td>\n",
       "      <td id=\"T_40a08_row3_col4\" class=\"data row3 col4\" >0.0460</td>\n",
       "      <td id=\"T_40a08_row3_col5\" class=\"data row3 col5\" >0.0647</td>\n",
       "      <td id=\"T_40a08_row3_col6\" class=\"data row3 col6\" >0.0533</td>\n",
       "      <td id=\"T_40a08_row3_col7\" class=\"data row3 col7\" >0.0587</td>\n",
       "      <td id=\"T_40a08_row3_col8\" class=\"data row3 col8\" >0.1810</td>\n",
       "    </tr>\n",
       "    <tr>\n",
       "      <th id=\"T_40a08_level0_row4\" class=\"row_heading level0 row4\" >knn</th>\n",
       "      <td id=\"T_40a08_row4_col0\" class=\"data row4 col0\" >K Neighbors Classifier</td>\n",
       "      <td id=\"T_40a08_row4_col1\" class=\"data row4 col1\" >0.9629</td>\n",
       "      <td id=\"T_40a08_row4_col2\" class=\"data row4 col2\" >0.5823</td>\n",
       "      <td id=\"T_40a08_row4_col3\" class=\"data row4 col3\" >0.1412</td>\n",
       "      <td id=\"T_40a08_row4_col4\" class=\"data row4 col4\" >0.0394</td>\n",
       "      <td id=\"T_40a08_row4_col5\" class=\"data row4 col5\" >0.0610</td>\n",
       "      <td id=\"T_40a08_row4_col6\" class=\"data row4 col6\" >0.0482</td>\n",
       "      <td id=\"T_40a08_row4_col7\" class=\"data row4 col7\" >0.0590</td>\n",
       "      <td id=\"T_40a08_row4_col8\" class=\"data row4 col8\" >0.5680</td>\n",
       "    </tr>\n",
       "    <tr>\n",
       "      <th id=\"T_40a08_level0_row5\" class=\"row_heading level0 row5\" >lightgbm</th>\n",
       "      <td id=\"T_40a08_row5_col0\" class=\"data row5 col0\" >Light Gradient Boosting Machine</td>\n",
       "      <td id=\"T_40a08_row5_col1\" class=\"data row5 col1\" >0.9528</td>\n",
       "      <td id=\"T_40a08_row5_col2\" class=\"data row5 col2\" >0.7291</td>\n",
       "      <td id=\"T_40a08_row5_col3\" class=\"data row5 col3\" >0.2082</td>\n",
       "      <td id=\"T_40a08_row5_col4\" class=\"data row5 col4\" >0.0429</td>\n",
       "      <td id=\"T_40a08_row5_col5\" class=\"data row5 col5\" >0.0710</td>\n",
       "      <td id=\"T_40a08_row5_col6\" class=\"data row5 col6\" >0.0575</td>\n",
       "      <td id=\"T_40a08_row5_col7\" class=\"data row5 col7\" >0.0773</td>\n",
       "      <td id=\"T_40a08_row5_col8\" class=\"data row5 col8\" >39.1050</td>\n",
       "    </tr>\n",
       "    <tr>\n",
       "      <th id=\"T_40a08_level0_row6\" class=\"row_heading level0 row6\" >nb</th>\n",
       "      <td id=\"T_40a08_row6_col0\" class=\"data row6 col0\" >Naive Bayes</td>\n",
       "      <td id=\"T_40a08_row6_col1\" class=\"data row6 col1\" >0.8782</td>\n",
       "      <td id=\"T_40a08_row6_col2\" class=\"data row6 col2\" >0.7328</td>\n",
       "      <td id=\"T_40a08_row6_col3\" class=\"data row6 col3\" >0.4470</td>\n",
       "      <td id=\"T_40a08_row6_col4\" class=\"data row6 col4\" >0.0321</td>\n",
       "      <td id=\"T_40a08_row6_col5\" class=\"data row6 col5\" >0.0599</td>\n",
       "      <td id=\"T_40a08_row6_col6\" class=\"data row6 col6\" >0.0445</td>\n",
       "      <td id=\"T_40a08_row6_col7\" class=\"data row6 col7\" >0.0936</td>\n",
       "      <td id=\"T_40a08_row6_col8\" class=\"data row6 col8\" >0.0970</td>\n",
       "    </tr>\n",
       "    <tr>\n",
       "      <th id=\"T_40a08_level0_row7\" class=\"row_heading level0 row7\" >svm</th>\n",
       "      <td id=\"T_40a08_row7_col0\" class=\"data row7 col0\" >SVM - Linear Kernel</td>\n",
       "      <td id=\"T_40a08_row7_col1\" class=\"data row7 col1\" >0.8607</td>\n",
       "      <td id=\"T_40a08_row7_col2\" class=\"data row7 col2\" >0.7737</td>\n",
       "      <td id=\"T_40a08_row7_col3\" class=\"data row7 col3\" >0.5307</td>\n",
       "      <td id=\"T_40a08_row7_col4\" class=\"data row7 col4\" >0.0331</td>\n",
       "      <td id=\"T_40a08_row7_col5\" class=\"data row7 col5\" >0.0623</td>\n",
       "      <td id=\"T_40a08_row7_col6\" class=\"data row7 col6\" >0.0468</td>\n",
       "      <td id=\"T_40a08_row7_col7\" class=\"data row7 col7\" >0.1058</td>\n",
       "      <td id=\"T_40a08_row7_col8\" class=\"data row7 col8\" >0.1200</td>\n",
       "    </tr>\n",
       "    <tr>\n",
       "      <th id=\"T_40a08_level0_row8\" class=\"row_heading level0 row8\" >gbc</th>\n",
       "      <td id=\"T_40a08_row8_col0\" class=\"data row8 col0\" >Gradient Boosting Classifier</td>\n",
       "      <td id=\"T_40a08_row8_col1\" class=\"data row8 col1\" >0.8420</td>\n",
       "      <td id=\"T_40a08_row8_col2\" class=\"data row8 col2\" >0.7389</td>\n",
       "      <td id=\"T_40a08_row8_col3\" class=\"data row8 col3\" >0.4951</td>\n",
       "      <td id=\"T_40a08_row8_col4\" class=\"data row8 col4\" >0.0272</td>\n",
       "      <td id=\"T_40a08_row8_col5\" class=\"data row8 col5\" >0.0516</td>\n",
       "      <td id=\"T_40a08_row8_col6\" class=\"data row8 col6\" >0.0357</td>\n",
       "      <td id=\"T_40a08_row8_col7\" class=\"data row8 col7\" >0.0865</td>\n",
       "      <td id=\"T_40a08_row8_col8\" class=\"data row8 col8\" >2.4080</td>\n",
       "    </tr>\n",
       "    <tr>\n",
       "      <th id=\"T_40a08_level0_row9\" class=\"row_heading level0 row9\" >lr</th>\n",
       "      <td id=\"T_40a08_row9_col0\" class=\"data row9 col0\" >Logistic Regression</td>\n",
       "      <td id=\"T_40a08_row9_col1\" class=\"data row9 col1\" >0.8344</td>\n",
       "      <td id=\"T_40a08_row9_col2\" class=\"data row9 col2\" >0.7725</td>\n",
       "      <td id=\"T_40a08_row9_col3\" class=\"data row9 col3\" >0.5641</td>\n",
       "      <td id=\"T_40a08_row9_col4\" class=\"data row9 col4\" >0.0294</td>\n",
       "      <td id=\"T_40a08_row9_col5\" class=\"data row9 col5\" >0.0558</td>\n",
       "      <td id=\"T_40a08_row9_col6\" class=\"data row9 col6\" >0.0400</td>\n",
       "      <td id=\"T_40a08_row9_col7\" class=\"data row9 col7\" >0.0998</td>\n",
       "      <td id=\"T_40a08_row9_col8\" class=\"data row9 col8\" >0.6990</td>\n",
       "    </tr>\n",
       "    <tr>\n",
       "      <th id=\"T_40a08_level0_row10\" class=\"row_heading level0 row10\" >ridge</th>\n",
       "      <td id=\"T_40a08_row10_col0\" class=\"data row10 col0\" >Ridge Classifier</td>\n",
       "      <td id=\"T_40a08_row10_col1\" class=\"data row10 col1\" >0.8328</td>\n",
       "      <td id=\"T_40a08_row10_col2\" class=\"data row10 col2\" >0.7588</td>\n",
       "      <td id=\"T_40a08_row10_col3\" class=\"data row10 col3\" >0.5406</td>\n",
       "      <td id=\"T_40a08_row10_col4\" class=\"data row10 col4\" >0.0281</td>\n",
       "      <td id=\"T_40a08_row10_col5\" class=\"data row10 col5\" >0.0534</td>\n",
       "      <td id=\"T_40a08_row10_col6\" class=\"data row10 col6\" >0.0375</td>\n",
       "      <td id=\"T_40a08_row10_col7\" class=\"data row10 col7\" >0.0936</td>\n",
       "      <td id=\"T_40a08_row10_col8\" class=\"data row10 col8\" >0.1210</td>\n",
       "    </tr>\n",
       "    <tr>\n",
       "      <th id=\"T_40a08_level0_row11\" class=\"row_heading level0 row11\" >lda</th>\n",
       "      <td id=\"T_40a08_row11_col0\" class=\"data row11 col0\" >Linear Discriminant Analysis</td>\n",
       "      <td id=\"T_40a08_row11_col1\" class=\"data row11 col1\" >0.8328</td>\n",
       "      <td id=\"T_40a08_row11_col2\" class=\"data row11 col2\" >0.7589</td>\n",
       "      <td id=\"T_40a08_row11_col3\" class=\"data row11 col3\" >0.5406</td>\n",
       "      <td id=\"T_40a08_row11_col4\" class=\"data row11 col4\" >0.0281</td>\n",
       "      <td id=\"T_40a08_row11_col5\" class=\"data row11 col5\" >0.0534</td>\n",
       "      <td id=\"T_40a08_row11_col6\" class=\"data row11 col6\" >0.0375</td>\n",
       "      <td id=\"T_40a08_row11_col7\" class=\"data row11 col7\" >0.0935</td>\n",
       "      <td id=\"T_40a08_row11_col8\" class=\"data row11 col8\" >0.1150</td>\n",
       "    </tr>\n",
       "    <tr>\n",
       "      <th id=\"T_40a08_level0_row12\" class=\"row_heading level0 row12\" >ada</th>\n",
       "      <td id=\"T_40a08_row12_col0\" class=\"data row12 col0\" >Ada Boost Classifier</td>\n",
       "      <td id=\"T_40a08_row12_col1\" class=\"data row12 col1\" >0.7670</td>\n",
       "      <td id=\"T_40a08_row12_col2\" class=\"data row12 col2\" >0.7309</td>\n",
       "      <td id=\"T_40a08_row12_col3\" class=\"data row12 col3\" >0.5937</td>\n",
       "      <td id=\"T_40a08_row12_col4\" class=\"data row12 col4\" >0.0219</td>\n",
       "      <td id=\"T_40a08_row12_col5\" class=\"data row12 col5\" >0.0422</td>\n",
       "      <td id=\"T_40a08_row12_col6\" class=\"data row12 col6\" >0.0259</td>\n",
       "      <td id=\"T_40a08_row12_col7\" class=\"data row12 col7\" >0.0791</td>\n",
       "      <td id=\"T_40a08_row12_col8\" class=\"data row12 col8\" >0.5890</td>\n",
       "    </tr>\n",
       "    <tr>\n",
       "      <th id=\"T_40a08_level0_row13\" class=\"row_heading level0 row13\" >qda</th>\n",
       "      <td id=\"T_40a08_row13_col0\" class=\"data row13 col0\" >Quadratic Discriminant Analysis</td>\n",
       "      <td id=\"T_40a08_row13_col1\" class=\"data row13 col1\" >0.2768</td>\n",
       "      <td id=\"T_40a08_row13_col2\" class=\"data row13 col2\" >0.5999</td>\n",
       "      <td id=\"T_40a08_row13_col3\" class=\"data row13 col3\" >0.7847</td>\n",
       "      <td id=\"T_40a08_row13_col4\" class=\"data row13 col4\" >0.0096</td>\n",
       "      <td id=\"T_40a08_row13_col5\" class=\"data row13 col5\" >0.0190</td>\n",
       "      <td id=\"T_40a08_row13_col6\" class=\"data row13 col6\" >0.0019</td>\n",
       "      <td id=\"T_40a08_row13_col7\" class=\"data row13 col7\" >0.0136</td>\n",
       "      <td id=\"T_40a08_row13_col8\" class=\"data row13 col8\" >0.1070</td>\n",
       "    </tr>\n",
       "  </tbody>\n",
       "</table>\n"
      ],
      "text/plain": [
       "<pandas.io.formats.style.Styler at 0x7f499e8bc390>"
      ]
     },
     "metadata": {},
     "output_type": "display_data"
    },
    {
     "data": {
      "text/html": [],
      "text/plain": [
       "<IPython.core.display.HTML object>"
      ]
     },
     "metadata": {},
     "output_type": "display_data"
    }
   ],
   "source": [
    "# compare baseline models\n",
    "best = compare_models()"
   ]
  },
  {
   "cell_type": "code",
   "execution_count": 37,
   "metadata": {},
   "outputs": [
    {
     "data": {
      "text/html": [],
      "text/plain": [
       "<IPython.core.display.HTML object>"
      ]
     },
     "metadata": {},
     "output_type": "display_data"
    },
    {
     "data": {
      "image/png": "[encoded data removed]",
      "text/plain": [
       "<Figure size 800x550 with 1 Axes>"
      ]
     },
     "metadata": {},
     "output_type": "display_data"
    }
   ],
   "source": [
    "# plot confusion matrix\n",
    "plot_model(best, plot = 'confusion_matrix')"
   ]
  },
  {
   "cell_type": "code",
   "execution_count": null,
   "metadata": {},
   "outputs": [],
   "source": [
    "# plot AUC\n",
    "plot_model(best, plot = 'auc')"
   ]
  },
  {
   "cell_type": "code",
   "execution_count": null,
   "metadata": {},
   "outputs": [],
   "source": [
    "# predict on test set\n",
    "holdout_pred = predict_model(best)"
   ]
  },
  {
   "cell_type": "code",
   "execution_count": null,
   "metadata": {},
   "outputs": [],
   "source": [
    "holdout_pred.head()"
   ]
  }
 ],
 "metadata": {
  "kernelspec": {
   "display_name": "Python 3 (ipykernel)",
   "language": "python",
   "name": "python3"
  },
  "language_info": {
   "codemirror_mode": {
    "name": "ipython",
    "version": 3
   },
   "file_extension": ".py",
   "mimetype": "text/x-python",
   "name": "python",
   "nbconvert_exporter": "python",
   "pygments_lexer": "ipython3",
   "version": "3.11.4"
  }
 },
 "nbformat": 4,
 "nbformat_minor": 2
}
