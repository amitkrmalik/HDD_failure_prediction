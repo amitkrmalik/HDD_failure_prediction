{
 "cells": [
  {
   "cell_type": "code",
   "execution_count": null,
   "metadata": {},
   "outputs": [],
   "source": [
    "import pandas as pd\n",
    "import numpy as np\n",
    "import matplotlib.pyplot as plt\n",
    "import seaborn as sns\n",
    "\n",
    "from sklearn.ensemble import GradientBoostingClassifier\n",
    "from sklearn.model_selection import train_test_split\n",
    "from sklearn.model_selection import GridSearchCV\n",
    "from sklearn.preprocessing import StandardScaler\n",
    "\n",
    "\n",
    "from sklearn import preprocessing\n",
    "from sklearn.metrics import accuracy_score, recall_score, precision_score, f1_score, roc_auc_score\n",
    "from sklearn.metrics import confusion_matrix\n",
    "\n",
    "\n",
    "from sklearn.model_selection import StratifiedKFold\n",
    "\n",
    "\n",
    "import tensorflow as tf\n",
    "from tensorflow.keras.models import Sequential\n",
    "from tensorflow.keras.layers import Dense\n",
    "from tensorflow.keras.layers import LSTM\n",
    "from tensorflow.keras.optimizers import Adam\n",
    "\n",
    "from sklearn.preprocessing import MinMaxScaler"
   ]
  },
  {
   "cell_type": "code",
   "execution_count": null,
   "metadata": {},
   "outputs": [],
   "source": [
    "# Load the entire dataset into a pandas dataframe\n",
    "\n",
    "df = pd.read_parquet('/nobackup/amimalik/bits/dataset/dimensions/4Q/working_dataset.parquet')\n",
    "model_df = pd.read_csv('/nobackup/amimalik/bits/dataset/dimensions/4Q/sorted_failures.csv')\n",
    "\n",
    "model_df = model_df.head(5)"
   ]
  },
  {
   "cell_type": "code",
   "execution_count": null,
   "metadata": {},
   "outputs": [],
   "source": [
    "df.shape"
   ]
  },
  {
   "cell_type": "code",
   "execution_count": null,
   "metadata": {},
   "outputs": [],
   "source": [
    "# Group the instances dataframe by serial number\n",
    "grouped_instances = df.groupby('serial_number')\n",
    "\n",
    "# Create an empty list to store the last 150 samples for each serial number\n",
    "last_n = []\n",
    "\n",
    "# Iterate over each group\n",
    "for name, group in grouped_instances:\n",
    "    # Get the last n (150) samples for the current serial number\n",
    "    last_n_group = group.tail(30)\n",
    "    # Append the last n samples to the list\n",
    "    last_n.append(last_n_group)\n",
    "\n",
    "# Concatenate the list of dataframes into a single dataframe\n",
    "instance_last_n = pd.concat(last_n)\n",
    "\n",
    "# Reset the index of the dataframe\n",
    "instance_last_n.reset_index(drop=True, inplace=True)\n",
    "\n",
    "# Drop the date column from the dataframe\n",
    "# instance_last_n.drop(columns=['date'], inplace=True)\n",
    "\n",
    "# Print the updated dataframe\n",
    "instance_last_n.head()"
   ]
  },
  {
   "cell_type": "code",
   "execution_count": null,
   "metadata": {},
   "outputs": [],
   "source": [
    "instance_last_n.shape"
   ]
  },
  {
   "cell_type": "code",
   "execution_count": null,
   "metadata": {},
   "outputs": [],
   "source": [
    "ddf = instance_last_n.copy()\n",
    "#reset the index and drop old index\n",
    "ddf.reset_index(drop=True, inplace=True)\n",
    "ddf.to_parquet(\"/nobackup/amimalik/bits/dataset/dimensions/4Q/working_dataset_time.parquet\")"
   ]
  },
  {
   "cell_type": "code",
   "execution_count": null,
   "metadata": {},
   "outputs": [],
   "source": [
    "def get_model_data(df, model):\n",
    "    model_df = df[df['model'] == model]\n",
    "    model_df = model_df.drop(columns=['model'])\n",
    "    model_df.drop(columns=['serial_number'], inplace=True)\n",
    "    return model_df\n"
   ]
  },
  {
   "cell_type": "code",
   "execution_count": null,
   "metadata": {},
   "outputs": [],
   "source": [
    "def get_clean_data(df):\n",
    "    test = df.isnull().sum()\n",
    "    d_col = []\n",
    "    for k in test.keys():\n",
    "        if test[k] == df.shape[0]:\n",
    "            d_col.append(k)\n",
    "    df.drop(columns=d_col, inplace=True)\n",
    "    # replace null by mean values\n",
    "    for col in df.columns:\n",
    "        df[col].fillna(df[col].mean(), inplace=True)\n",
    "    # reset index\n",
    "    df.reset_index(drop=True, inplace=True)\n",
    "    return df"
   ]
  },
  {
   "cell_type": "code",
   "execution_count": null,
   "metadata": {},
   "outputs": [],
   "source": [
    "for dev_models in model_df['model']:\n",
    "    model_data = get_model_data(ddf, dev_models)\n",
    "    model_data = get_clean_data(model_data)"
   ]
  },
  {
   "cell_type": "code",
   "execution_count": null,
   "metadata": {},
   "outputs": [],
   "source": [
    "model_df"
   ]
  },
  {
   "cell_type": "code",
   "execution_count": null,
   "metadata": {},
   "outputs": [],
   "source": [
    "dev_models = 'ST12000NM0008'\n",
    "model_data = get_model_data(df, dev_models)\n",
    "model_data = get_clean_data(model_data)"
   ]
  },
  {
   "cell_type": "code",
   "execution_count": null,
   "metadata": {},
   "outputs": [],
   "source": [
    "model_data.tail()"
   ]
  },
  {
   "cell_type": "code",
   "execution_count": null,
   "metadata": {},
   "outputs": [],
   "source": [
    "model_data.shape"
   ]
  },
  {
   "cell_type": "code",
   "execution_count": null,
   "metadata": {},
   "outputs": [],
   "source": [
    "# Define a function that performs stratified cross-validation\n",
    "\n",
    "def stratified_data_split(df):\n",
    "    # Define the number of folds\n",
    "    n_folds = 5\n",
    "\n",
    "    # Create an instance of StratifiedKFold\n",
    "    skf = StratifiedKFold(n_splits=n_folds, shuffle=True, random_state=42)\n",
    "\n",
    "    # Split the data into X and y\n",
    "    X = df.drop(columns=['failure'])\n",
    "    y = df['failure']\n",
    "\n",
    "    # Perform stratified cross-validation\n",
    "    for train_index, test_index in skf.split(X, y):\n",
    "        X_train, X_test = X.iloc[train_index], X.iloc[test_index]\n",
    "        y_train, y_test = y.iloc[train_index], y.iloc[test_index]\n",
    "        y_train = np.array(y_train).reshape(-1, 1)\n",
    "        X_train = np.reshape(X_train, (X_train.shape[0], 1, X_train.shape[1]))\n",
    "        y_test = np.array(y_test).reshape(-1, 1)\n",
    "        X_test = np.reshape(X_test, (X_test.shape[0], 1, X_test.shape[1]))\n",
    "\n",
    "\n",
    "        # print(X_train.shape, y_train.shape, X_test.shape, y_test.shape)\n",
    "        yield X_train, y_train, X_test, y_test"
   ]
  },
  {
   "cell_type": "code",
   "execution_count": null,
   "metadata": {},
   "outputs": [],
   "source": [
    "def model_fit(X_train, y_train, x_test, y_test, epochs=10, batch_size=32, learning_rate=0.001):\n",
    "    validation_number = int(0.9 * X_train.shape[0])\n",
    "    validation_X = X_train[validation_number:]\n",
    "    validation_y = y_train[validation_number:]\n",
    "    train_X = X_train[:validation_number]\n",
    "    train_y = y_train[:validation_number]\n",
    "\n",
    "\n",
    "    # Define the model\n",
    "    model = Sequential()\n",
    "    model.add(LSTM(100, activation='relu', input_shape=(1,9),return_sequences=True, dropout=0.25))\n",
    "    model.add(LSTM(100, return_sequences=True))\n",
    "    model.add(LSTM(100, return_sequences=True))\n",
    "    model.add(LSTM(50, return_sequences=False))\n",
    "    model.add(Dense(1, activation='sigmoid'))\n",
    "\n",
    "    # Compile the model\n",
    "    model.compile(optimizer=Adam(learning_rate=learning_rate), loss='mse')\n",
    "\n",
    "    # Fit the model\n",
    "    history = model.fit(X_train, y_train, epochs=epochs, batch_size=batch_size, validation_data=(validation_X, validation_y), verbose=0)\n",
    "\n",
    "    # summarize performance of the model\n",
    "    scores = model.evaluate(train_X, train_y, verbose=0)\n",
    "    print(model.metrics_names)\n",
    "    print(\"model loss: %.2f%%\" % (scores*100))\n",
    "\n",
    "    # Use the trained model to predict on the test_X dataset\n",
    "    predictions = model.predict(test_X)\n",
    "\n",
    "    # Print the predictions\n",
    "    # print(predictions)\n",
    "\n",
    "    # Convert the predictions to binary values (0 or 1)\n",
    "    binary_predictions = (predictions > 0.5).astype(int)\n",
    "\n",
    "    # Calculate the evaluation metrics\n",
    "    accuracy = accuracy_score(test_y, binary_predictions)\n",
    "    precision = precision_score(test_y, binary_predictions)\n",
    "    recall = recall_score(test_y, binary_predictions)\n",
    "    f1 = f1_score(test_y, binary_predictions)\n",
    "    roc_auc = roc_auc_score(test_y, binary_predictions)\n",
    "\n",
    "    # Print the evaluation metrics\n",
    "    print(\"Accuracy:\", accuracy)\n",
    "    print(\"Precision:\", precision)\n",
    "    print(\"Recall:\", recall)\n",
    "    print(\"F1-score:\", f1)\n",
    "    print(\"ROC AUC score:\", roc_auc)\n",
    "\n",
    "\n",
    "    # plot history\n",
    "    plt.plot(history.history['loss'], label='train')\n",
    "    plt.plot(history.history['val_loss'], label='validation')\n",
    "    plt.title('model accuracy')\n",
    "    plt.ylabel('accuracy')\n",
    "    plt.xlabel('epoch')\n",
    "    plt.legend()\n",
    "    plt.grid()\n",
    "    plt.show()\n",
    "\n",
    "    return model"
   ]
  },
  {
   "cell_type": "code",
   "execution_count": null,
   "metadata": {},
   "outputs": [],
   "source": [
    "for train_X, train_y, test_X, test_y in stratified_data_split(model_data):\n",
    "        #print(train_X.shape, train_y.shape, test_X.shape)\n",
    "        #print(train_X.shape[0], train_X.shape[1])\n",
    "        #print(np.isnan(train_X).sum())\n",
    "        #print(np.isnan(train_y).sum())\n",
    "\n",
    "        #scaler = StandardScaler()\n",
    "        #X_train_scaled = scaler.fit_transform(train_X)\n",
    "        #X_train_reshaped = np.reshape(X_train_scaled, (X_train_scaled.shape[0], 1, X_train_scaled.shape[1]))\n",
    "\n",
    "        #print(X_train_scaled.shape, train_y.shape, test_X.shape)\n",
    "\n",
    "        model_fit(train_X, train_y, test_X, test_y, epochs=10, batch_size=32, learning_rate=0.001)"
   ]
  },
  {
   "cell_type": "code",
   "execution_count": null,
   "metadata": {},
   "outputs": [],
   "source": [
    "# model_fit(X_train, y_train, x_test, y_test, epochs=10, batch_size=32)\n",
    "epochs=10\n",
    "batch_size=32\n",
    "learning_rate=0.001\n",
    "\n",
    "\n",
    "# train_X, train_y, test_X, test_y\n",
    "X_train = train_X\n",
    "y_train = train_y\n",
    "\n",
    "validation_number = int(0.9 * X_train.shape[0])\n",
    "validation_X = X_train[validation_number:]\n",
    "validation_y = y_train[validation_number:]\n",
    "\n",
    "X_train = X_train[:validation_number]\n",
    "y_train = y_train[:validation_number]\n",
    "\n",
    "\n",
    "# Define the model\n",
    "model = Sequential()\n",
    "model.add(LSTM(100, activation='relu', input_shape=(1,9),return_sequences=True, dropout=0.25))\n",
    "model.add(LSTM(100, return_sequences=True))\n",
    "model.add(LSTM(100, return_sequences=True))\n",
    "model.add(LSTM(50, return_sequences=False))\n",
    "model.add(Dense(1, activation='sigmoid'))\n",
    "\n",
    "# Compile the model\n",
    "model.compile(optimizer=Adam(learning_rate=learning_rate), loss='mse')\n",
    "\n",
    "# Fit the model\n",
    "history = model.fit(X_train, y_train, epochs=epochs, batch_size=batch_size, validation_data=(validation_X, validation_y), verbose=2)\n",
    "\n",
    "# summarize performance of the model\n",
    "scores = model.evaluate(train_X, train_y, verbose=2)\n",
    "print(model.metrics_names)\n",
    "print(\"model loss: %.2f%%\" % (scores*100))\n",
    "\n",
    "# plot history\n",
    "plt.plot(history.history['loss'], label='train')\n",
    "plt.plot(history.history['val_loss'], label='validation')\n",
    "plt.legend()\n",
    "plt.grid()\n"
   ]
  },
  {
   "cell_type": "code",
   "execution_count": null,
   "metadata": {},
   "outputs": [],
   "source": [
    "# plot history\n",
    "plt.plot(history.history['loss'], label='train')\n",
    "plt.plot(history.history['val_loss'], label='validation')\n",
    "plt.title('model accuracy')\n",
    "plt.ylabel('accuracy')\n",
    "plt.xlabel('epoch')\n",
    "plt.legend()\n",
    "plt.grid()"
   ]
  },
  {
   "cell_type": "code",
   "execution_count": null,
   "metadata": {},
   "outputs": [],
   "source": [
    "# Use the trained model to predict on the test_X dataset\n",
    "predictions = model.predict(test_X)\n",
    "\n",
    "# Print the predictions\n",
    "print(predictions)"
   ]
  },
  {
   "cell_type": "code",
   "execution_count": null,
   "metadata": {},
   "outputs": [],
   "source": [
    "from sklearn.metrics import accuracy_score, precision_score, recall_score, f1_score\n",
    "\n",
    "# Convert the predictions to binary values (0 or 1)\n",
    "binary_predictions = (predictions > 0.5).astype(int)\n",
    "\n",
    "# Calculate the evaluation metrics\n",
    "accuracy = accuracy_score(test_y, binary_predictions)\n",
    "precision = precision_score(test_y, binary_predictions)\n",
    "recall = recall_score(test_y, binary_predictions)\n",
    "f1 = f1_score(test_y, binary_predictions)\n",
    "\n",
    "# Print the evaluation metrics\n",
    "print(\"Accuracy:\", accuracy)\n",
    "print(\"Precision:\", precision)\n",
    "print(\"Recall:\", recall)\n",
    "print(\"F1-score:\", f1)"
   ]
  },
  {
   "cell_type": "code",
   "execution_count": null,
   "metadata": {},
   "outputs": [],
   "source": [
    "count_ones = np.count_nonzero(test_y == 1)\n",
    "print(count_ones)"
   ]
  },
  {
   "cell_type": "code",
   "execution_count": null,
   "metadata": {},
   "outputs": [],
   "source": [
    "history.history"
   ]
  },
  {
   "cell_type": "code",
   "execution_count": null,
   "metadata": {},
   "outputs": [],
   "source": [
    "plt.plot(history.history['accuracy'])\n",
    "plt.plot(history.history['val_accuracy'])\n",
    "plt.title('model accuracy')\n",
    "plt.ylabel('accuracy')\n",
    "plt.xlabel('epoch')\n",
    "plt.legend(['train', 'val'], loc='upper left')\n",
    "plt.show()"
   ]
  },
  {
   "cell_type": "code",
   "execution_count": null,
   "metadata": {},
   "outputs": [],
   "source": []
  }
 ],
 "metadata": {
  "kernelspec": {
   "display_name": "Python 3 (ipykernel)",
   "language": "python",
   "name": "python3"
  },
  "language_info": {
   "codemirror_mode": {
    "name": "ipython",
    "version": 3
   },
   "file_extension": ".py",
   "mimetype": "text/x-python",
   "name": "python",
   "nbconvert_exporter": "python",
   "pygments_lexer": "ipython3",
   "version": "3.11.4"
  }
 },
 "nbformat": 4,
 "nbformat_minor": 2
}
